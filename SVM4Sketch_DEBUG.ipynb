{
  "nbformat": 4,
  "nbformat_minor": 0,
  "metadata": {
    "colab": {
      "name": "SVM4Sketch_DEBUG.ipynb",
      "provenance": [],
      "collapsed_sections": [],
      "authorship_tag": "ABX9TyPhO/P1tY0uHG2uNP/Jp/94",
      "include_colab_link": true
    },
    "kernelspec": {
      "name": "python3",
      "display_name": "Python 3"
    }
  },
  "cells": [
    {
      "cell_type": "markdown",
      "metadata": {
        "id": "view-in-github",
        "colab_type": "text"
      },
      "source": [
        "<a href=\"https://colab.research.google.com/github/Kususumu/SVM4Sketch/blob/master/SVM4Sketch_DEBUG.ipynb\" target=\"_parent\"><img src=\"https://colab.research.google.com/assets/colab-badge.svg\" alt=\"Open In Colab\"/></a>"
      ]
    },
    {
      "cell_type": "code",
      "metadata": {
        "id": "bf_sac_4HrGV",
        "colab_type": "code",
        "colab": {}
      },
      "source": [
        "# Debugging process of SVM4Sketch\n",
        "# Test the SketchData CLASS\n",
        "import glob\n",
        "import matplotlib.pyplot as plt\n",
        "import cv2 as cv\n",
        "import random\n",
        "import copy\n",
        "\n",
        "path = \"/content/drive/My Drive/TinyPostureDataset/Images/**/\"\n",
        "\n",
        "sketchdata = SketchData(path)\n",
        "cats_images,num = sketchdata.load_dataset(\"jpg\")\n",
        "print(\"Total Num:\"+ str(num))\n",
        "\n",
        "# Random Dataset Testing\n",
        "num_train = 30\n",
        "num_test = 10\n",
        "\n",
        "# take random number\n",
        "print(\"Testing Random\")\n",
        "while_number = list(range(num_train + num_test))\n",
        "print(while_number)\n",
        "random.shuffle(while_number)\n",
        "#print(while_number)\n",
        "#print(while_number[:10])\n",
        "#print(while_number[10:])\n",
        "#train_set = while_number[:num_train]\n",
        "#test_set = while_number[num_train:]\n",
        "#print(\"train_set :\"+str(train_set))\n",
        "#print(\"test_set :\"+str(test_set))\n",
        "\n",
        "\"\"\"\n",
        "#random_set 1,2,3\n",
        "print(cats_images)\n",
        "random.shuffle(cats_images[0][1])\n",
        "random.shuffle(cats_images[1][1])\n",
        "random.shuffle(cats_images[2][1])\n",
        "print(cats_images)\n",
        "\n",
        "# Get train_set\n",
        "print(\"train_set\")\n",
        "train_set = copy.deepcopy(cats_images)\n",
        "print(train_set)\n",
        "del train_set[0][1][num_train:]\n",
        "del train_set[1][1][num_train:]\n",
        "del train_set[2][1][num_train:]\n",
        "print(train_set)\n",
        "\n",
        "# Get test_images\n",
        "print(\"test_set\")\n",
        "test_set = copy.deepcopy(cats_images)\n",
        "print(test_set)\n",
        "del test_set[0][1][:num_train]\n",
        "del test_set[1][1][:num_train]\n",
        "del test_set[2][1][:num_train]\n",
        "print(test_set)\n",
        "\"\"\"\n",
        "\n",
        "# The Cats_and_images Matrix has 6 cell from [0][0] to [2][1]\n",
        "# Always use the third the number to take the input [0][0][1]\n",
        "# cats_images[Type][address = type_folder][detaild_address = ]\n",
        "#print(\"Catergories and Images:\"+ str(cats_images))\n",
        "#print(\"Testing\")\n",
        "#print(cats_images[1][1])\n",
        "#print(cats_images[1])\n",
        "#print(cats_images[0])\n",
        "\n",
        "# Testing Dataset\n",
        "# Test Show a random image\n",
        "#print(\"Specific one:\"+ str(cats_images[1][1][3]))\n",
        "# CAN NOT USE plt.imshow(cats_images[1][1][3])\n",
        "# CAN NOT USE image = cv.imread(cats_images[1][1][40]) Because->0-39 \n",
        "#image = cv.imread(cats_images[1][1][0])\n",
        "#plt.imshow(image)\n",
        "\n",
        "# Test the Function show_dataset\n",
        "#num_show = 10\n",
        "#sketchdata.show_dataset(cats_images,num,num_show)"
      ],
      "execution_count": null,
      "outputs": []
    }
  ]
}